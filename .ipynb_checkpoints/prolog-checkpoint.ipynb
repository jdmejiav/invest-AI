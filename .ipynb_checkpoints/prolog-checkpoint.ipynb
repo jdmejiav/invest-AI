{
 "cells": [
  {
   "cell_type": "markdown",
   "id": "e36794aa",
   "metadata": {},
   "source": [
    " ## Código prolog"
   ]
  },
  {
   "cell_type": "code",
   "execution_count": null,
   "id": "766bfdc5",
   "metadata": {},
   "outputs": [],
   "source": [
    "options(apple, tech).\n",
    "options(intel, tech).\n",
    "options(nvidia, tech).\n",
    "options(microsoft, tech).\n",
    "options(dolar, money).\n",
    "options(euro, money).\n",
    "options(bitcoin, cripto).\n",
    "options(etherium, cripto).\n",
    "\n",
    "invest(persona1, apple).\n",
    "invest(persona2, apple).\n",
    "invest(persona1, intel).\n",
    "invest(persona1, nvidia).\n",
    "invest(persona2, intel).\n",
    "invest(persona1, intel).\n",
    "invest(persona2, microsoft).\n",
    "invest(persona2, bitcoin).\n",
    "invest(persona3, dolar).\n",
    "invest(persona3, bitcoin).\n",
    "invest(persona4, euro).\n",
    "\n",
    "predictBaseOnPeople(X,Y,M) :-\n",
    "    invest(X,Z),\n",
    "    invest(Y,Z),\n",
    "\toptions(Z,M).\n",
    "\n",
    "predictBaseOnSameArea(X,Y,J,K):-\n",
    "    options(X,Z),\n",
    "    options(Y,Z),\n",
    "    invest(J,X),\n",
    "    invest(K,X),\n",
    "    invest(K,Y),\n",
    "    invest(J,Y).\n"
   ]
  },
  {
   "cell_type": "markdown",
   "id": "59d72da7",
   "metadata": {},
   "source": [
    "### Definimos los hechos\n",
    "Options(X,Y) nos establece una relación entre un tipo de stock X y a qué categoría Y pertenece, invest(X,Y), establece una relación entre lo que la persona X está invirtiendo Y\n",
    "\n",
    "### Definimos las reglas\n",
    "predictBaseOnPeople(X,Y,M): relaciona dados una persona X y una persona Y, los Stock en los que invierten y permite prececir en qué invertirán.\n",
    "\n",
    "predictBaseOnSameArea(X,Y,J,K): Relaciona una persona J y una persona K, encuentra en qué stocks están invirtiendo en común y precide en qué stocks es más probable que inviertan\n",
    "\n",
    "\n",
    "\n",
    "\n"
   ]
  },
  {
   "cell_type": "code",
   "execution_count": 2,
   "id": "99c50bc6",
   "metadata": {},
   "outputs": [
    {
     "name": "stdout",
     "output_type": "stream",
     "text": [
      "C:\\Users\\Juan Diego\\home\\Documentos\\Repositorios\\invest-ia\\prolog.ipynb\n",
      "[{'M': 'tech'}, {'M': 'tech'}, {'M': 'tech'}]\n"
     ]
    }
   ],
   "source": [
    "from pyswip import Prolog\n",
    "\n",
    "\n",
    "prolog = Prolog()\n",
    "prolog.consult('./invest.pl')\n",
    "\n",
    "x = prolog.query(\"predictBaseOnPeople(persona1,persona2,M)\")\n",
    "print(list(x))\n"
   ]
  },
  {
   "cell_type": "markdown",
   "id": "fac564c2",
   "metadata": {},
   "source": [
    "Hacemos una simple query para probar el funcionamiento"
   ]
  }
 ],
 "metadata": {
  "kernelspec": {
   "display_name": "Python 3 (ipykernel)",
   "language": "python",
   "name": "python3"
  },
  "language_info": {
   "codemirror_mode": {
    "name": "ipython",
    "version": 3
   },
   "file_extension": ".py",
   "mimetype": "text/x-python",
   "name": "python",
   "nbconvert_exporter": "python",
   "pygments_lexer": "ipython3",
   "version": "3.9.2"
  }
 },
 "nbformat": 4,
 "nbformat_minor": 5
}
