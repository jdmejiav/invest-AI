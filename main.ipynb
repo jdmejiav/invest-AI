{
 "cells": [
  {
   "cell_type": "code",
   "execution_count": 2,
   "id": "4a99b79a",
   "metadata": {},
   "outputs": [
    {
     "name": "stdout",
     "output_type": "stream",
     "text": [
      "Collecting ipynb\n",
      "  Downloading ipynb-0.5.1-py3-none-any.whl (6.9 kB)\n",
      "Installing collected packages: ipynb\n",
      "Successfully installed ipynb-0.5.1\n"
     ]
    }
   ],
   "source": [
    "!pip install ipynb\n",
    "\n"
   ]
  },
  {
   "cell_type": "code",
   "execution_count": null,
   "id": "765ca35d",
   "metadata": {},
   "outputs": [],
   "source": [
    "from prediction_ability import predict\n",
    "\n",
    "\n",
    "def stocks():\n",
    "    print(\"Ingresa el stock al que deseas predecir su comportamiento\")\n",
    "    print(\"Ex:\\nBitcoin -> BTC-USD\\nApple -> AAPL\\nTesla -> TSLA\")\n",
    "    stock = input(\"Ingresa el código: \")\n",
    "    predict(stock)\n",
    "\n",
    "\n",
    "if __name__=='__main':\n",
    "\n",
    "\n",
    "    while True:\n",
    "        print(\"Bienvenido al agende de inversión, digital el número de la actividad que deseas realizar\")\n",
    "        print(\"(5). Habilidad de predecir stocks\")\n",
    "        choose = int(input(\"Ingresa el número\"))\n",
    "\n",
    "        if choose==5:\n",
    "            stocks()\n"
   ]
  }
 ],
 "metadata": {
  "kernelspec": {
   "display_name": "Python 3 (ipykernel)",
   "language": "python",
   "name": "python3"
  },
  "language_info": {
   "codemirror_mode": {
    "name": "ipython",
    "version": 3
   },
   "file_extension": ".py",
   "mimetype": "text/x-python",
   "name": "python",
   "nbconvert_exporter": "python",
   "pygments_lexer": "ipython3",
   "version": "3.9.2"
  }
 },
 "nbformat": 4,
 "nbformat_minor": 5
}
